{
 "cells": [
  {
   "cell_type": "code",
   "execution_count": 1,
   "id": "53514a76",
   "metadata": {},
   "outputs": [
    {
     "name": "stdout",
     "output_type": "stream",
     "text": [
      "   StudentID  StudyHours  Attendance Participation  PreviousScores  \\\n",
      "0          1    7.490802   75.553988          High       51.952916   \n",
      "1          2   19.014286   86.257028          High       93.412900   \n",
      "2          3   14.639879   96.188375          High       57.244576   \n",
      "3          4   11.973170   91.966747        Medium       62.067159   \n",
      "4          5    3.120373   94.196834        Medium       43.485517   \n",
      "\n",
      "  ParentalInvolvement ExtraCurricular Passed  \n",
      "0              Medium              No    Yes  \n",
      "1                 Low              No    Yes  \n",
      "2                 Low              No    Yes  \n",
      "3                High              No    Yes  \n",
      "4              Medium             Yes    Yes  \n"
     ]
    }
   ],
   "source": [
    "import pandas as pd\n",
    "import numpy as np\n",
    "\n",
    "# Set the random seed for reproducibility\n",
    "np.random.seed(42)\n",
    "\n",
    "# Number of students\n",
    "n_students = 1000\n",
    "\n",
    "# Create synthetic data\n",
    "data = {\n",
    "    'StudentID': range(1, n_students + 1),\n",
    "    'StudyHours': np.random.uniform(0, 20, n_students),\n",
    "    'Attendance': np.random.uniform(70, 100, n_students),\n",
    "    'Participation': np.random.choice(['Low', 'Medium', 'High'], n_students),\n",
    "    'PreviousScores': np.random.uniform(40, 100, n_students),\n",
    "    'ParentalInvolvement': np.random.choice(['Low', 'Medium', 'High'], n_students),\n",
    "    'ExtraCurricular': np.random.choice(['Yes', 'No'], n_students),\n",
    "    # Generating a target variable ('Passed') based on these features\n",
    "    'Passed': np.random.choice(['Yes', 'No'], n_students)\n",
    "}\n",
    "\n",
    "# Create DataFrame\n",
    "df = pd.DataFrame(data)\n",
    "\n",
    "# Apply some realistic dependencies\n",
    "# Example: Higher study hours & attendance increases chances of passing\n",
    "df.loc[df['StudyHours'] > 10, 'Passed'] = np.random.choice(['Yes', 'No'], size=len(df[df['StudyHours'] > 10]), p=[0.8, 0.2])\n",
    "df.loc[df['Attendance'] > 90, 'Passed'] = np.random.choice(['Yes', 'No'], size=len(df[df['Attendance'] > 90]), p=[0.9, 0.1])\n",
    "\n",
    "# Save to CSV\n",
    "df.to_csv('student_performance_data.csv', index=False)\n",
    "\n",
    "# Display first few rows\n",
    "print(df.head())\n"
   ]
  },
  {
   "cell_type": "code",
   "execution_count": null,
   "id": "92154a71",
   "metadata": {},
   "outputs": [],
   "source": []
  }
 ],
 "metadata": {
  "kernelspec": {
   "display_name": "Python 3 (ipykernel)",
   "language": "python",
   "name": "python3"
  },
  "language_info": {
   "codemirror_mode": {
    "name": "ipython",
    "version": 3
   },
   "file_extension": ".py",
   "mimetype": "text/x-python",
   "name": "python",
   "nbconvert_exporter": "python",
   "pygments_lexer": "ipython3",
   "version": "3.9.7"
  }
 },
 "nbformat": 4,
 "nbformat_minor": 5
}
