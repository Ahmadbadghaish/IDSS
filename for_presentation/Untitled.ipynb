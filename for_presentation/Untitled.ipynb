{
 "cells": [
  {
   "cell_type": "code",
   "execution_count": 1,
   "id": "0da1b871",
   "metadata": {},
   "outputs": [
    {
     "name": "stdout",
     "output_type": "stream",
     "text": [
      "   CustomerID    ContractType  MonthlyCharges  TotalCharges  TenureMonths  \\\n",
      "0           1        Two year       37.291271   6957.647852            54   \n",
      "1           2  Month-to-month       77.720536   6466.810661            54   \n",
      "2           3        Two year       67.336111   6341.240447            65   \n",
      "3           4        Two year      119.386454   2506.965199            21   \n",
      "4           5  Month-to-month       40.185540    739.262336            13   \n",
      "\n",
      "  PhoneService     MultipleLines InternetService       OnlineSecurity  \\\n",
      "0           No  No phone service     Fiber optic                  Yes   \n",
      "1          Yes                No     Fiber optic                   No   \n",
      "2           No  No phone service              No                   No   \n",
      "3           No  No phone service             DSL  No internet service   \n",
      "4          Yes               Yes     Fiber optic                   No   \n",
      "\n",
      "           TechSupport          StreamingTV StreamingMovies PaperlessBilling  \\\n",
      "0                   No  No internet service              No              Yes   \n",
      "1                   No                  Yes             Yes              Yes   \n",
      "2                  Yes                  Yes             Yes               No   \n",
      "3  No internet service                  Yes             Yes               No   \n",
      "4                  Yes                   No             Yes               No   \n",
      "\n",
      "               PaymentMethod Churn  \n",
      "0    Credit card (automatic)    No  \n",
      "1               Mailed check   Yes  \n",
      "2  Bank transfer (automatic)    No  \n",
      "3           Electronic check    No  \n",
      "4           Electronic check    No  \n"
     ]
    }
   ],
   "source": [
    "import pandas as pd\n",
    "import numpy as np\n",
    "\n",
    "# Set the random seed for reproducibility\n",
    "np.random.seed(42)\n",
    "\n",
    "# Number of customers\n",
    "n_customers = 1000\n",
    "\n",
    "# Create synthetic data\n",
    "data = {\n",
    "    'CustomerID': range(1, n_customers + 1),\n",
    "    'ContractType': np.random.choice(['Month-to-month', 'One year', 'Two year'], n_customers),\n",
    "    'MonthlyCharges': np.random.uniform(29.99, 120.99, n_customers),\n",
    "    'TotalCharges': np.random.uniform(100, 8000, n_customers),\n",
    "    'TenureMonths': np.random.randint(1, 72, n_customers),\n",
    "    'PhoneService': np.random.choice(['Yes', 'No'], n_customers),\n",
    "    'MultipleLines': np.random.choice(['Yes', 'No', 'No phone service'], n_customers),\n",
    "    'InternetService': np.random.choice(['DSL', 'Fiber optic', 'No'], n_customers),\n",
    "    'OnlineSecurity': np.random.choice(['Yes', 'No', 'No internet service'], n_customers),\n",
    "    'TechSupport': np.random.choice(['Yes', 'No', 'No internet service'], n_customers),\n",
    "    'StreamingTV': np.random.choice(['Yes', 'No', 'No internet service'], n_customers),\n",
    "    'StreamingMovies': np.random.choice(['Yes', 'No', 'No internet service'], n_customers),\n",
    "    'PaperlessBilling': np.random.choice(['Yes', 'No'], n_customers),\n",
    "    'PaymentMethod': np.random.choice(['Electronic check', 'Mailed check', 'Bank transfer (automatic)', 'Credit card (automatic)'], n_customers),\n",
    "    'Churn': np.random.choice(['Yes', 'No'], n_customers, p=[0.2, 0.8])  # 20% churn rate\n",
    "}\n",
    "\n",
    "# Create DataFrame\n",
    "df = pd.DataFrame(data)\n",
    "\n",
    "# Simulating some realistic dependencies\n",
    "df.loc[df['ContractType'] == 'Two year', 'Churn'] = np.random.choice(['Yes', 'No'], size=len(df[df['ContractType'] == 'Two year']), p=[0.05, 0.95])\n",
    "\n",
    "# Save to CSV\n",
    "df.to_csv('customer_churn_data.csv', index=False)\n",
    "\n",
    "# Display first few rows\n",
    "print(df.head())\n"
   ]
  },
  {
   "cell_type": "code",
   "execution_count": null,
   "id": "397a2e83",
   "metadata": {},
   "outputs": [],
   "source": []
  }
 ],
 "metadata": {
  "kernelspec": {
   "display_name": "Python 3 (ipykernel)",
   "language": "python",
   "name": "python3"
  },
  "language_info": {
   "codemirror_mode": {
    "name": "ipython",
    "version": 3
   },
   "file_extension": ".py",
   "mimetype": "text/x-python",
   "name": "python",
   "nbconvert_exporter": "python",
   "pygments_lexer": "ipython3",
   "version": "3.9.7"
  }
 },
 "nbformat": 4,
 "nbformat_minor": 5
}
