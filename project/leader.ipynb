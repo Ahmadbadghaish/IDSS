{
 "cells": [
  {
   "cell_type": "code",
   "execution_count": 4,
   "id": "cf042707",
   "metadata": {},
   "outputs": [
    {
     "name": "stdout",
     "output_type": "stream",
     "text": [
      "Selected Leader ID: 2.0\n",
      "Scores of the selected leader:\n",
      "ID                           2.00\n",
      "neuroticism_scores          22.39\n",
      "extroversion_scores         54.07\n",
      "openness_scores             55.71\n",
      "agreeableness_scores        41.56\n",
      "conscientiousness_scores    44.16\n",
      "Name: 1, dtype: float64\n",
      "\n",
      "Data with weighted scores:\n",
      "   ID  neuroticism_scores  extroversion_scores  openness_scores  \\\n",
      "0   1               41.68                51.96            45.72   \n",
      "1   2               44.78                54.07            55.71   \n",
      "2   3               47.50                57.80            42.42   \n",
      "3   4               19.40                45.27            44.58   \n",
      "4   5               23.70                44.53            46.97   \n",
      "\n",
      "   agreeableness_scores  conscientiousness_scores  total_score  \n",
      "0                -45.53                    138.40       232.23  \n",
      "1                -41.56                    176.64       289.64  \n",
      "2                -65.82                    197.36       279.26  \n",
      "3                -58.71                    163.52       214.06  \n",
      "4                -40.71                    189.56       264.05  \n"
     ]
    }
   ],
   "source": [
    "import pandas as pd\n",
    "\n",
    "# Step 1: Load the CSV data\n",
    "# Replace 'path/to/your/file.csv' with the actual path to your CSV file\n",
    "data = pd.read_csv('team.CSV', delimiter=',')  # assuming the data is tab-separated\n",
    "\n",
    "# Step 2: Define the weights for each trait\n",
    "weights = {\n",
    "    'neuroticism_scores': 2,\n",
    "    'extroversion_scores': 1,\n",
    "    'openness_scores': 1,\n",
    "    'agreeableness_scores': -1,\n",
    "    'conscientiousness_scores': 4\n",
    "}\n",
    "\n",
    "# Step 3: Apply the weights to the scores and calculate a total weighted score\n",
    "# Create a new DataFrame to store the weighted scores\n",
    "weighted_scores = data.copy()\n",
    "\n",
    "for trait, weight in weights.items():\n",
    "    weighted_scores[trait] = data[trait] * weight\n",
    "\n",
    "# Add a new column for the total score\n",
    "weighted_scores['total_score'] = weighted_scores[list(weights.keys())].sum(axis=1)\n",
    "\n",
    "# Step 4: Identify the potential leader\n",
    "# Find the index of the individual with the highest total score\n",
    "leader_index = weighted_scores['total_score'].idxmax()\n",
    "\n",
    "# Get the ID of the potential leader from the original data\n",
    "leader_id = data.iloc[leader_index]['ID']\n",
    "\n",
    "# Print out the ID of the selected leader and their scores for review\n",
    "print(\"Selected Leader ID:\", leader_id)\n",
    "print(\"Scores of the selected leader:\")\n",
    "print(data.iloc[leader_index])\n",
    "\n",
    "# If you want to view the entire DataFrame with weighted scores and total scores, you can do so:\n",
    "print(\"\\nData with weighted scores:\")\n",
    "print(weighted_scores)\n"
   ]
  },
  {
   "cell_type": "code",
   "execution_count": null,
   "id": "4ec63a5a",
   "metadata": {},
   "outputs": [],
   "source": []
  }
 ],
 "metadata": {
  "kernelspec": {
   "display_name": "Python 3 (ipykernel)",
   "language": "python",
   "name": "python3"
  },
  "language_info": {
   "codemirror_mode": {
    "name": "ipython",
    "version": 3
   },
   "file_extension": ".py",
   "mimetype": "text/x-python",
   "name": "python",
   "nbconvert_exporter": "python",
   "pygments_lexer": "ipython3",
   "version": "3.9.7"
  }
 },
 "nbformat": 4,
 "nbformat_minor": 5
}
